{
  "nbformat": 4,
  "nbformat_minor": 0,
  "metadata": {
    "colab": {
      "name": "car_test.ipynb",
      "provenance": [],
      "mount_file_id": "14x1-B2HKqGXi1Fp8o_H1Am46fXVRxx92",
      "authorship_tag": "ABX9TyPW6kYSAKX8TzAErhwO9RiN",
      "include_colab_link": true
    },
    "kernelspec": {
      "name": "python3",
      "display_name": "Python 3"
    },
    "accelerator": "GPU"
  },
  "cells": [
    {
      "cell_type": "markdown",
      "metadata": {
        "id": "view-in-github",
        "colab_type": "text"
      },
      "source": [
        "<a href=\"https://colab.research.google.com/github/bt86548/pytorch/blob/master/car_test.ipynb\" target=\"_parent\"><img src=\"https://colab.research.google.com/assets/colab-badge.svg\" alt=\"Open In Colab\"/></a>"
      ]
    },
    {
      "cell_type": "code",
      "metadata": {
        "id": "C9KdPQ571H-q",
        "colab_type": "code",
        "colab": {}
      },
      "source": [
        "import os\n",
        "import cv2\n",
        "import numpy as np\n",
        "from tqdm import tqdm\n",
        "import torch\n",
        "import torch.nn as nn\n",
        "import torch.nn.functional as F\n",
        "import torch.optim as optim\n"
      ],
      "execution_count": null,
      "outputs": []
    },
    {
      "cell_type": "code",
      "metadata": {
        "id": "btpLOEhIhl3I",
        "colab_type": "code",
        "colab": {
          "base_uri": "https://localhost:8080/",
          "height": 318
        },
        "outputId": "eb37890f-c64f-4dc4-eee9-94028e4d7579"
      },
      "source": [
        "\n",
        "REBUILD_DATA = True\n",
        "\n",
        "class car_test():\n",
        "    IMG_SIZE = 80 #把所有圖片尺寸都統一,可能會失真需要先測試一下圖片\n",
        "    toyota_camry = \"/content/drive/My Drive/iii_course/toyota_test/camry\" \n",
        "    toyota_vios = \"/content/drive/My Drive/iii_course/HOT/HOT_image/toyota/vios\"\n",
        "    toyota_altis=\"/content/drive/My Drive/iii_course/toyota_test/altis\"\n",
        "\n",
        "    # TESTING = \"PetImages/Testing\"\n",
        "    LABELS = {toyota_camry: 0, toyota_vios: 1,toyota_altis:2} #貼標籤\n",
        "    training_data = []\n",
        "\n",
        "    \n",
        "    toyota_camry_count = 0 #計數很重要 需要知道做完沒\n",
        "    toyota_vios_count = 0\n",
        "    toyota_altis_count = 0\n",
        "\n",
        "\n",
        "    def make_training_data(self):\n",
        "        for label in self.LABELS: #用標籤去跑所有的圖像\n",
        "            for f in tqdm(os.listdir(label)): #跑遍所有圖片,tqdm進度條\n",
        "                if \"jpg\" in f:\n",
        "                    try:\n",
        "                        path = os.path.join(label, f) #label為/content/PetImages2/PetImages/Cat位置,f為每張照片,以此類推去讀取\n",
        "                        img = cv2.imread(path, cv2.IMREAD_GRAYSCALE) #把讀到的照片變成灰階\n",
        "                        img = cv2.resize(img, (self.IMG_SIZE, self.IMG_SIZE)) #把每張照片都變50*50的大小\n",
        "                        self.training_data.append([np.array(img), np.eye(3)[self.LABELS[label]]])  \n",
        "                        #np.array(img)為該圖片的矩陣,np.eye(2)[self.LABELS[label]]]\n",
        "                        # do something like print(np.eye(2)[1]), just makes one_hot  np.eye(2)為對角線為1的2X2矩陣\n",
        "                        #print(np.eye(2)[self.LABELS[label]]) \n",
        "\n",
        "                        if label == self.toyota_camry:\n",
        "                            self.toyota_camry_count += 1\n",
        "                        elif label == self.toyota_vios:\n",
        "                            self.toyota_vios_count += 1\n",
        "                        elif label == self.toyota_altis:\n",
        "                            self.toyota_altis_count += 1\n",
        "\n",
        "                    except Exception as e:\n",
        "                        pass\n",
        "                        #print(label, f, str(e))\n",
        "\n",
        "        np.random.shuffle(self.training_data) #重新洗牌讓他更準\n",
        "        np.save(\"training_data.npy\", self.training_data) #存成npy檔讓圖片比較好辨識\n",
        "        print('toyota_camry:',car_test.toyota_camry_count)\n",
        "        print('toyota_vios:',car_test.toyota_vios_count)\n",
        "        print('toyota_altis:',car_test.toyota_altis_count)\n",
        "\n",
        "if REBUILD_DATA:\n",
        "    car_test = car_test()\n",
        "    car_test.make_training_data()"
      ],
      "execution_count": null,
      "outputs": [
        {
          "output_type": "error",
          "ename": "FileNotFoundError",
          "evalue": "ignored",
          "traceback": [
            "\u001b[0;31m---------------------------------------------------------------------------\u001b[0m",
            "\u001b[0;31mFileNotFoundError\u001b[0m                         Traceback (most recent call last)",
            "\u001b[0;32m<ipython-input-13-69a31e3487af>\u001b[0m in \u001b[0;36m<module>\u001b[0;34m()\u001b[0m\n\u001b[1;32m     50\u001b[0m \u001b[0;32mif\u001b[0m \u001b[0mREBUILD_DATA\u001b[0m\u001b[0;34m:\u001b[0m\u001b[0;34m\u001b[0m\u001b[0;34m\u001b[0m\u001b[0m\n\u001b[1;32m     51\u001b[0m     \u001b[0mcar_test\u001b[0m \u001b[0;34m=\u001b[0m \u001b[0mcar_test\u001b[0m\u001b[0;34m(\u001b[0m\u001b[0;34m)\u001b[0m\u001b[0;34m\u001b[0m\u001b[0;34m\u001b[0m\u001b[0m\n\u001b[0;32m---> 52\u001b[0;31m     \u001b[0mcar_test\u001b[0m\u001b[0;34m.\u001b[0m\u001b[0mmake_training_data\u001b[0m\u001b[0;34m(\u001b[0m\u001b[0;34m)\u001b[0m\u001b[0;34m\u001b[0m\u001b[0;34m\u001b[0m\u001b[0m\n\u001b[0m",
            "\u001b[0;32m<ipython-input-13-69a31e3487af>\u001b[0m in \u001b[0;36mmake_training_data\u001b[0;34m(self)\u001b[0m\n\u001b[1;32m     20\u001b[0m     \u001b[0;32mdef\u001b[0m \u001b[0mmake_training_data\u001b[0m\u001b[0;34m(\u001b[0m\u001b[0mself\u001b[0m\u001b[0;34m)\u001b[0m\u001b[0;34m:\u001b[0m\u001b[0;34m\u001b[0m\u001b[0;34m\u001b[0m\u001b[0m\n\u001b[1;32m     21\u001b[0m         \u001b[0;32mfor\u001b[0m \u001b[0mlabel\u001b[0m \u001b[0;32min\u001b[0m \u001b[0mself\u001b[0m\u001b[0;34m.\u001b[0m\u001b[0mLABELS\u001b[0m\u001b[0;34m:\u001b[0m \u001b[0;31m#用標籤去跑所有的圖像\u001b[0m\u001b[0;34m\u001b[0m\u001b[0;34m\u001b[0m\u001b[0m\n\u001b[0;32m---> 22\u001b[0;31m             \u001b[0;32mfor\u001b[0m \u001b[0mf\u001b[0m \u001b[0;32min\u001b[0m \u001b[0mtqdm\u001b[0m\u001b[0;34m(\u001b[0m\u001b[0mos\u001b[0m\u001b[0;34m.\u001b[0m\u001b[0mlistdir\u001b[0m\u001b[0;34m(\u001b[0m\u001b[0mlabel\u001b[0m\u001b[0;34m)\u001b[0m\u001b[0;34m)\u001b[0m\u001b[0;34m:\u001b[0m \u001b[0;31m#跑遍所有圖片,tqdm進度條\u001b[0m\u001b[0;34m\u001b[0m\u001b[0;34m\u001b[0m\u001b[0m\n\u001b[0m\u001b[1;32m     23\u001b[0m                 \u001b[0;32mif\u001b[0m \u001b[0;34m\"jpg\"\u001b[0m \u001b[0;32min\u001b[0m \u001b[0mf\u001b[0m\u001b[0;34m:\u001b[0m\u001b[0;34m\u001b[0m\u001b[0;34m\u001b[0m\u001b[0m\n\u001b[1;32m     24\u001b[0m                     \u001b[0;32mtry\u001b[0m\u001b[0;34m:\u001b[0m\u001b[0;34m\u001b[0m\u001b[0;34m\u001b[0m\u001b[0m\n",
            "\u001b[0;31mFileNotFoundError\u001b[0m: [Errno 2] No such file or directory: '/content/drive/My Drive/iii_course/toyota_test/camry'"
          ]
        }
      ]
    },
    {
      "cell_type": "code",
      "metadata": {
        "id": "56VNWKtgp3jF",
        "colab_type": "code",
        "colab": {}
      },
      "source": [
        "class Net(nn.Module):\n",
        "    def __init__(self):\n",
        "        super().__init__()\n",
        "        self.conv1 = nn.Conv2d(1, 32, 5)\n",
        "        self.conv2 = nn.Conv2d(32, 64, 5)\n",
        "        self.conv3 = nn.Conv2d(64, 128, 5)\n",
        "\n",
        "        x = torch.randn(80,80).view(-1,1,80,80)\n",
        "        self._to_linear = None\n",
        "        self.convs(x)\n",
        "\n",
        "        self.fc1 = nn.Linear(self._to_linear, 512)\n",
        "        self.fc2 = nn.Linear(512, 2)\n",
        "\n",
        "    def convs(self, x):\n",
        "        x = F.max_pool2d(F.relu(self.conv1(x)), (2,2))\n",
        "        x = F.max_pool2d(F.relu(self.conv2(x)), (2,2))\n",
        "        x = F.max_pool2d(F.relu(self.conv3(x)), (2,2))\n",
        "\n",
        "        if self._to_linear is None:\n",
        "            self._to_linear = x[0].shape[0]*x[0].shape[1]*x[0].shape[2]\n",
        "        return x\n",
        "\n",
        "    def forward(self, x):\n",
        "        x = self.convs(x)\n",
        "        x = x.view(-1, self._to_linear)\n",
        "        x = F.relu(self.fc1(x))\n",
        "        x = self.fc2(x)\n",
        "        return F.softmax(x, dim=1)\n",
        "\n",
        "\n",
        "\n",
        "if torch.cuda.is_available():\n",
        "    device = torch.device(\"cuda:0\")  # you can continue going on here, like cuda:1 cuda:2....etc. \n",
        "    print(\"Running on the GPU\")\n",
        "else:\n",
        "    device = torch.device(\"cpu\")\n",
        "    print(\"Running on the CPU\")\n",
        "\n",
        "net = Net().to(device)"
      ],
      "execution_count": null,
      "outputs": []
    },
    {
      "cell_type": "code",
      "metadata": {
        "id": "BR9DdUA4p5Pt",
        "colab_type": "code",
        "colab": {}
      },
      "source": [
        "training_data = np.load(\"/content/drive/My Drive/training_data (1).npy\", allow_pickle=True)\n",
        "print(len(training_data))\n",
        "\n",
        "optimizer = optim.Adam(net.parameters(), lr=0.001)\n",
        "loss_function = nn.CrossEntropyLoss()"
      ],
      "execution_count": null,
      "outputs": []
    },
    {
      "cell_type": "code",
      "metadata": {
        "id": "Diw6zoGDp9pT",
        "colab_type": "code",
        "colab": {}
      },
      "source": [
        "X = torch.Tensor([i[0] for i in training_data]).view(-1,80,80)\n",
        "X = X/255.0\n",
        "y = torch.Tensor([i[1] for i in training_data])\n",
        "\n",
        "VAL_PCT = 0.1\n",
        "val_size = int(len(X)*VAL_PCT)\n",
        "print(val_size)\n",
        "\n",
        "train_X = X[:-val_size]\n",
        "train_y = y[:-val_size]\n",
        "\n",
        "test_X = X[-val_size:]\n",
        "test_y = y[-val_size:]\n",
        "\n",
        "print(len(train_X))\n",
        "print(len(test_X))"
      ],
      "execution_count": null,
      "outputs": []
    },
    {
      "cell_type": "code",
      "metadata": {
        "id": "Qie_oQy4qLcu",
        "colab_type": "code",
        "colab": {}
      },
      "source": [
        "def train(net):\n",
        "    BATCH_SIZE = 50 #batch size 不能太大 不然cuda會爆掉\n",
        "    #如果Batch_Size過小，訓練資料就會非常難收斂，從而導致underfitting。\n",
        "    # 增大Batch_Size,相對處理速度加快。\n",
        "    # 增大Batch_Size,所需記憶體容量增加（epoch的次數需要增加以達到最好的結果)\n",
        "    EPOCHS = 3\n",
        "    for epoch in range(EPOCHS):\n",
        "        for i in tqdm(range(0, len(train_X), BATCH_SIZE)):\n",
        "            batch_X = train_X[i:i+BATCH_SIZE].view(-1,1,80,80)\n",
        "            batch_y = train_y[i:i+BATCH_SIZE]\n",
        "  \n",
        "\n",
        "            batch_X, batch_y = batch_X.to(device), batch_y.to(device)\n",
        "\n",
        "            net.zero_grad()\n",
        "            \n",
        "            outputs = net(batch_X)\n",
        "            print('output:',outputs)\n",
        "            loss = loss_function(outputs, batch_y)\n",
        "            loss.backward()\n",
        "            optimizer.step()\n",
        "        print('===========================================')\n",
        "        print('loss:',loss)\n",
        "\n",
        "train(net)"
      ],
      "execution_count": null,
      "outputs": []
    },
    {
      "cell_type": "code",
      "metadata": {
        "id": "n_sTbCsaqpUz",
        "colab_type": "code",
        "colab": {}
      },
      "source": [
        "def test(net):\n",
        "    correct = 0\n",
        "    total = 0\n",
        "    with torch.no_grad():\n",
        "        for i in tqdm(range(len(test_X))):\n",
        "            real_class = torch.argmax(test_y[i]).to(device)\n",
        "            \n",
        "\n",
        "            net_out = net(test_X[i].view(-1, 1,80,80).to(device))[0]\n",
        "\n",
        "            predicted_class = torch.argmax(net_out)\n",
        "            if predicted_class == real_class:\n",
        "                correct += 1\n",
        "            total += 1\n",
        "    print(\"Accuracy:\", round(correct/total,3))\n",
        "\n",
        "test(net)"
      ],
      "execution_count": null,
      "outputs": []
    },
    {
      "cell_type": "code",
      "metadata": {
        "id": "O7RtGzmPZvm4",
        "colab_type": "code",
        "colab": {}
      },
      "source": [
        "def batch_test(net):\n",
        "    BATCH_SIZE = 100\n",
        "    correct = 0\n",
        "    total = 0\n",
        "    with torch.no_grad():\n",
        "        #np.random.shuffle(test_X)\n",
        "        #np.random.shuffle(test_y)\n",
        "\n",
        "        batch_X = test_X[:BATCH_SIZE].view(-1,1,80,80)\n",
        "        batch_y = test_y[:BATCH_SIZE]\n",
        "\n",
        "        batch_X, batch_y = batch_X.to(device), batch_y.to(device)\n",
        "\n",
        "        net.zero_grad()\n",
        "        outputs = net(batch_X)\n",
        "\n",
        "        matches  = [torch.argmax(i)==torch.argmax(j) for i, j in zip(outputs, batch_y)]\n",
        "        acc = matches.count(True)/len(matches)\n",
        "\n",
        "        print(\"Test Accuracy:\", round(acc, 3))\n",
        "\n",
        "\n",
        "batch_test(net)"
      ],
      "execution_count": null,
      "outputs": []
    },
    {
      "cell_type": "code",
      "metadata": {
        "id": "0fRIC7J_aJUm",
        "colab_type": "code",
        "colab": {}
      },
      "source": [
        "def fwd_pass(X, y, train=False):\n",
        "\n",
        "    if train:\n",
        "        net.zero_grad()\n",
        "    outputs = net(X)\n",
        "    matches  = [torch.argmax(i)==torch.argmax(j) for i, j in zip(outputs, y)]\n",
        "    acc = matches.count(True)/len(matches)\n",
        "    loss = loss_function(outputs, y)\n",
        "\n",
        "    if train:\n",
        "        loss.backward()\n",
        "        optimizer.step()\n",
        "\n",
        "    return acc, loss"
      ],
      "execution_count": null,
      "outputs": []
    },
    {
      "cell_type": "code",
      "metadata": {
        "id": "dWiJ_RXzaKQr",
        "colab_type": "code",
        "colab": {}
      },
      "source": [
        "net = Net().to(device)\n",
        "optimizer = optim.Adam(net.parameters(), lr=0.001)\n",
        "loss_function = nn.MSELoss()\n",
        "\n",
        "def train(net):\n",
        "    BATCH_SIZE = 100\n",
        "    EPOCHS = 3\n",
        "    for epoch in range(EPOCHS):\n",
        "        for i in tqdm(range(0, len(train_X), BATCH_SIZE)):\n",
        "            batch_X = train_X[i:i+BATCH_SIZE].view(-1,1,80,80)\n",
        "            batch_y = train_y[i:i+BATCH_SIZE]\n",
        "\n",
        "            batch_X, batch_y = batch_X.to(device), batch_y.to(device)\n",
        "\n",
        "            acc, loss = fwd_pass(batch_X, batch_y, train=True)\n",
        "\n",
        "            print(f\"Acc: {round(float(acc),2)}  Loss: {round(float(loss),4)}\")\n",
        "\n",
        "            # just to show the above working, and then get out:\n",
        "            if i == 5:\n",
        "                break\n",
        "            break\n",
        "\n",
        "train(net)"
      ],
      "execution_count": null,
      "outputs": []
    },
    {
      "cell_type": "code",
      "metadata": {
        "id": "ALTL8XuN1jU2",
        "colab_type": "code",
        "colab": {}
      },
      "source": [
        ""
      ],
      "execution_count": null,
      "outputs": []
    }
  ]
}